{
 "cells": [
  {
   "cell_type": "code",
   "execution_count": 1,
   "metadata": {},
   "outputs": [],
   "source": [
    "import sys\n",
    "sys.path.append('./')\n",
    "import os\n",
    "import numpy as np\n",
    "import pandas as pd\n",
    "# just in casei\n",
    "import matplotlib.pyplot as plt\n",
    "\n",
    "from calc_dets import get_sig_dets, get_sum_ovlp"
   ]
  },
  {
   "cell_type": "code",
   "execution_count": 4,
   "metadata": {},
   "outputs": [],
   "source": [
    "base = '/Users/aarodynamic95/projects/Research/3dTMV/SHCI_tests/04'\n",
    "species = os.listdir(base)\n",
    "\n",
    "coeff_sums = np.linspace(0.9, 0.99, 10)\n",
    "coeff_dict = {}\n",
    "det_dict = {}"
   ]
  },
  {
   "cell_type": "code",
   "execution_count": 5,
   "metadata": {},
   "outputs": [
    {
     "data": {
      "text/plain": [
       "['init', 'ox']"
      ]
     },
     "execution_count": 5,
     "metadata": {},
     "output_type": "execute_result"
    }
   ],
   "source": [
    "species"
   ]
  },
  {
   "cell_type": "code",
   "execution_count": 6,
   "metadata": {},
   "outputs": [
    {
     "name": "stdout",
     "output_type": "stream",
     "text": [
      "Number of dets 87 with total ovlp square 0.9000046715262108\n",
      "Number of dets 119 with total ovlp square 0.91017620662824\n",
      "Number of dets 165 with total ovlp square 0.9200923948175995\n",
      "Number of dets 234 with total ovlp square 0.9300036755429689\n",
      "Number of dets 332 with total ovlp square 0.9400757876755713\n",
      "Number of dets 468 with total ovlp square 0.9500060256000229\n",
      "Number of dets 705 with total ovlp square 0.9600243227235093\n",
      "Number of dets 1269 with total ovlp square 0.9700088478751101\n",
      "Number of dets 2691 with total ovlp square 0.9800000573994376\n",
      "Number of dets 9289 with total ovlp square 0.9900004137108577\n",
      "Number of dets 54 with total ovlp square 0.9000891258283278\n",
      "Number of dets 76 with total ovlp square 0.9102783366834607\n",
      "Number of dets 104 with total ovlp square 0.9202581798908389\n",
      "Number of dets 144 with total ovlp square 0.9301756724056967\n",
      "Number of dets 207 with total ovlp square 0.9400211267576277\n",
      "Number of dets 307 with total ovlp square 0.9500676796476456\n",
      "Number of dets 448 with total ovlp square 0.9600010885031528\n",
      "Number of dets 692 with total ovlp square 0.9700179081805421\n",
      "Number of dets 1502 with total ovlp square 0.9800006617404465\n",
      "Number of dets 5764 with total ovlp square 0.9900000523024578\n"
     ]
    }
   ],
   "source": [
    "for sp in species:\n",
    "\t#for state in os.listdir(os.path.join(base, sp)):\n",
    "\t\t#key = '_'.join([sp, state])\n",
    "\t\t#print(key)\n",
    "\tcoeff_dict[sp] = np.zeros(coeff_sums.shape[0])\n",
    "\tCI_file = os.path.join(base, sp, 'CI_coeff.dat')\n",
    "\tfor sum_idx in range(len(coeff_sums)):\n",
    "\t\tndet = get_sig_dets(CI_file, coeff_sums[sum_idx])\n",
    "\t\tcoeff_dict[sp][sum_idx] = ndet\n",
    "\t\t"
   ]
  },
  {
   "cell_type": "code",
   "execution_count": 7,
   "metadata": {},
   "outputs": [],
   "source": [
    "det_data = pd.DataFrame(coeff_dict, index=coeff_sums)"
   ]
  },
  {
   "cell_type": "code",
   "execution_count": 9,
   "metadata": {},
   "outputs": [],
   "source": [
    "det_data.to_csv(os.path.join(base,'04SHCIdets.csv'))"
   ]
  },
  {
   "cell_type": "code",
   "execution_count": 9,
   "metadata": {},
   "outputs": [
    {
     "name": "stdout",
     "output_type": "stream",
     "text": [
      "n_det = 487, sum ovlp squared = 0.9783369886052349\n"
     ]
    },
    {
     "data": {
      "text/plain": [
       "0.9783369886052349"
      ]
     },
     "execution_count": 9,
     "metadata": {},
     "output_type": "execute_result"
    }
   ],
   "source": [
    "get_sum_ovlp('/Users/aarodynamic95/projects/Research/3dTMV/SHCI_tests/09/eps1_scan/ox/5e-4/CI_coeff.dat',487)"
   ]
  },
  {
   "cell_type": "code",
   "execution_count": null,
   "metadata": {},
   "outputs": [],
   "source": []
  }
 ],
 "metadata": {
  "kernelspec": {
   "display_name": "Python 3.7.10 ('afqmc_training_py3')",
   "language": "python",
   "name": "python3"
  },
  "language_info": {
   "codemirror_mode": {
    "name": "ipython",
    "version": 3
   },
   "file_extension": ".py",
   "mimetype": "text/x-python",
   "name": "python",
   "nbconvert_exporter": "python",
   "pygments_lexer": "ipython3",
   "version": "3.7.10"
  },
  "orig_nbformat": 4,
  "vscode": {
   "interpreter": {
    "hash": "1e6fd07203285aeecc9330c2ef9cae6a771cca47bb9b073b5797845cc3d67a94"
   }
  }
 },
 "nbformat": 4,
 "nbformat_minor": 2
}
